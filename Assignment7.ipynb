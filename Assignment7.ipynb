{
 "cells": [
  {
   "cell_type": "markdown",
   "id": "953fd38f-d34c-4642-b982-3b4d8b48e356",
   "metadata": {},
   "source": [
    "1. What is the name of the feature responsible for generating Regex objects?"
   ]
  },
  {
   "cell_type": "code",
   "execution_count": 3,
   "id": "9270e0de-d5f9-4bc0-9640-f4f3238c2f7d",
   "metadata": {},
   "outputs": [
    {
     "data": {
      "text/plain": [
       "re.compile(r'string', re.UNICODE)"
      ]
     },
     "execution_count": 3,
     "metadata": {},
     "output_type": "execute_result"
    }
   ],
   "source": [
    "import re\n",
    "re.compile(\"string\")"
   ]
  },
  {
   "cell_type": "markdown",
   "id": "21451b04-3c96-4b4d-aa98-f0726426f3b2",
   "metadata": {},
   "source": [
    "2. Why do raw strings often appear in Regex objects?"
   ]
  },
  {
   "cell_type": "markdown",
   "id": "8246ee2d-02d8-4efa-9e2f-7afb9ff5a86c",
   "metadata": {},
   "source": [
    "Ans.Raw strings are useful when you deal with strings that have many backslashes, for example, regular expressions or directory paths on Windows."
   ]
  },
  {
   "cell_type": "markdown",
   "id": "ac927133-205a-4c49-8e21-db41b4fea9e5",
   "metadata": {},
   "source": [
    "3. What is the return value of the search() method?"
   ]
  },
  {
   "cell_type": "markdown",
   "id": "a8236162-ee9a-4106-8713-f68d13d25151",
   "metadata": {},
   "source": [
    "Ans .The search() method returns the index (position) of the first match. The search() method returns -1 if no match is found. The search() method is case sensitive."
   ]
  },
  {
   "cell_type": "markdown",
   "id": "30b4f9da-ab84-475f-8de9-b57be7ef4035",
   "metadata": {},
   "source": [
    "4. From a Match item, how do you get the actual strings that match the pattern?"
   ]
  },
  {
   "cell_type": "code",
   "execution_count": 9,
   "id": "11bcda38-f87e-48bb-82cb-b0fe587ade2f",
   "metadata": {},
   "outputs": [
    {
     "name": "stdout",
     "output_type": "stream",
     "text": [
      "Phone number found: 000-974-31187905\n"
     ]
    }
   ],
   "source": [
    "# Matching regex objects\n",
    "import re\n",
    "phoneNumRegex =re.compile(r'\\d\\d\\d-\\d\\d\\d-\\d\\d\\d\\d\\d\\d\\d\\d')\n",
    "mo = phoneNumRegex.search('My number is 000-974-31187905.')\n",
    "print('Phone number found: ' + mo.group())"
   ]
  },
  {
   "cell_type": "markdown",
   "id": "fa58110d-3f7d-44f5-a115-d7e8706dcd13",
   "metadata": {},
   "source": [
    "5. In the regex which created from the r&#39;(\\d\\d\\d)-(\\d\\d\\d-\\d\\d\\d\\d)&#39;, what does group zero cover?\n",
    "Group 2? Group 1?"
   ]
  },
  {
   "cell_type": "code",
   "execution_count": 11,
   "id": "50497f22-6b39-4411-9f5f-b3cd72a5e7a7",
   "metadata": {},
   "outputs": [
    {
     "data": {
      "text/plain": [
       "'000'"
      ]
     },
     "execution_count": 11,
     "metadata": {},
     "output_type": "execute_result"
    }
   ],
   "source": [
    "\n",
    "phoneNumRegex = re.compile(r'(\\d\\d\\d)-(\\d\\d\\d-\\d\\d\\d\\d)')\n",
    "mo = phoneNumRegex.search('My number is 000-974-31187905.')\n",
    "mo.group(1)\n",
    "     "
   ]
  },
  {
   "cell_type": "code",
   "execution_count": 12,
   "id": "782bb6f0-4545-4f05-a042-cb2767c3c4ce",
   "metadata": {},
   "outputs": [
    {
     "data": {
      "text/plain": [
       "'974-3118'"
      ]
     },
     "execution_count": 12,
     "metadata": {},
     "output_type": "execute_result"
    }
   ],
   "source": [
    "mo.group(2)"
   ]
  },
  {
   "cell_type": "code",
   "execution_count": null,
   "id": "1a14bcb2-2c35-49a9-96f2-92109bc38a9a",
   "metadata": {},
   "outputs": [],
   "source": []
  },
  {
   "cell_type": "markdown",
   "id": "f32ae041-e261-4106-8b5c-b5c682fa652a",
   "metadata": {},
   "source": [
    "6. In standard expression syntax, parentheses and intervals have distinct meanings. How can you tell\n",
    "a regex that you want it to fit real parentheses and periods?"
   ]
  },
  {
   "cell_type": "markdown",
   "id": "860cddd7-5c6a-404b-8e05-bf51e11092f2",
   "metadata": {},
   "source": [
    "Ans .Periods and parentheses can be escaped with a backslash: \\., \\(, and \\)"
   ]
  },
  {
   "cell_type": "markdown",
   "id": "b4ae2bf7-b184-4eb4-914b-b612bb428df1",
   "metadata": {},
   "source": [
    "7. The findall() method returns a string list or a list of string tuples. What causes it to return one of\n",
    "the two options?"
   ]
  },
  {
   "cell_type": "markdown",
   "id": "710b32e0-1492-4882-92cd-c30e2c901a9c",
   "metadata": {},
   "source": [
    "Ans .If the pattern has no capturing groups, the findall() function returns a list of strings that match the whole pattern. If the pattern has one capturing group, the findall() function returns a list of strings that match the group."
   ]
  },
  {
   "cell_type": "markdown",
   "id": "2f9967b0-5d6e-4370-9720-ad9a6f54b22d",
   "metadata": {},
   "source": [
    "8. In standard expressions, what does the | character mean?"
   ]
  },
  {
   "cell_type": "markdown",
   "id": "c86e6174-9080-4fac-8d11-5e3012196dd6",
   "metadata": {},
   "source": [
    "Ans . A pipe character ( | ) is used in regular expressions to specify an OR condition. For example, A or B is expressed as A | B"
   ]
  },
  {
   "cell_type": "markdown",
   "id": "625af56f-daea-48b1-bb9a-0422cb809c0f",
   "metadata": {},
   "source": [
    "9. In regular expressions, what does the character stand for?"
   ]
  },
  {
   "cell_type": "markdown",
   "id": "79d7964f-ffab-4531-971a-d0f9975efb3c",
   "metadata": {},
   "source": [
    "Ans "
   ]
  },
  {
   "cell_type": "markdown",
   "id": "7864640a-7e19-4eb6-a157-d274e6d012df",
   "metadata": {},
   "source": [
    "10.In regular expressions, what is the difference between the + and * characters?"
   ]
  },
  {
   "cell_type": "markdown",
   "id": "fe0b245f-1130-4f55-beff-346fdb09389d",
   "metadata": {},
   "source": [
    "Ans regular expression followed by an asterisk (*) matches a sequence of zero or more occurrences of the regular expression. A regular expression followed by a plus sign (+) matches one or more occurrences of the regular expressio"
   ]
  },
  {
   "cell_type": "markdown",
   "id": "8e05ad56-b657-4227-a344-dee5f3170fde",
   "metadata": {},
   "source": [
    "11. What is the difference between {4} and {4,5} in regular expression?"
   ]
  },
  {
   "cell_type": "markdown",
   "id": "14870a0c-1d43-4110-b6bb-e1f281c77540",
   "metadata": {},
   "source": [
    " Ans The {4} matches exactly four instances of the preceding group.\n",
    "\n",
    "The {4,5} matches between four and five instances"
   ]
  },
  {
   "cell_type": "markdown",
   "id": "b11ee7de-615b-40f7-9b1a-7ea7186e241c",
   "metadata": {},
   "source": [
    "12. What do you mean by the \\d, \\w, and \\s shorthand character classes signify in regular\n",
    "expressions?"
   ]
  },
  {
   "cell_type": "markdown",
   "id": "b57c97d9-3098-4fe0-ae45-b4e14769482f",
   "metadata": {},
   "source": [
    "\\d -Returns a match where the string contains digits (numbers from 0-9)  ,                                                                             \\w -Returns a match where the string contains any word characters (characters from a to Z, digits from 0-9, and the underscore _ character) ,\n",
    "\\s -Returns a match where the string contains a white space character"
   ]
  },
  {
   "cell_type": "markdown",
   "id": "9cd6a89a-7cea-4328-aee3-5f637c77e283",
   "metadata": {},
   "source": [
    "13. What do means by \\D, \\W, and \\S shorthand character classes signify in regular expressions?"
   ]
  },
  {
   "cell_type": "markdown",
   "id": "15648ed0-23a8-4a80-8ffe-0824d19b5d6d",
   "metadata": {},
   "source": [
    "\\D -Returns a match where the string DOES NOT contain digits,\n",
    "\\W-Returns a match where the string DOES NOT contain any word characters ,\n",
    "\\S-Returns a match where the string does not contain a white space character "
   ]
  },
  {
   "cell_type": "markdown",
   "id": "94ba362f-1647-4186-a8e6-c5f5e31bd155",
   "metadata": {},
   "source": [
    "14. What is the difference between .*? and .*?"
   ]
  },
  {
   "cell_type": "markdown",
   "id": "1a4e5b05-ad84-4c30-b6c9-e26e3046ca60",
   "metadata": {},
   "source": [
    "Ans .*? is non-greedy. * will match nothing, but then will try to match extra characters until it matches 1 , eventually matching 101 . All quantifiers have a non-greedy mode: . *? "
   ]
  },
  {
   "cell_type": "markdown",
   "id": "fa16d017-016b-4a29-af9d-60657826dab4",
   "metadata": {},
   "source": [
    "15. What is the syntax for matching both numbers and lowercase letters with a character class?"
   ]
  },
  {
   "cell_type": "markdown",
   "id": "7e45f8b8-b381-4fe7-b259-a7fae267cbe5",
   "metadata": {},
   "source": [
    "Ans .[a-z0-9]or [0-9a-z] "
   ]
  },
  {
   "cell_type": "markdown",
   "id": "4b47a8d3-c266-4bc6-8877-ba2b9ef76e17",
   "metadata": {},
   "source": [
    "16. What is the procedure for making a normal expression in regax case insensitive?"
   ]
  },
  {
   "cell_type": "markdown",
   "id": "52a96c20-e63a-4acd-a3fc-ade936443946",
   "metadata": {},
   "source": [
    "Ans . using  re.I as the second argument to re.compile() will make the matching case insensitive"
   ]
  },
  {
   "cell_type": "markdown",
   "id": "9d92a443-958b-4af3-bfc2-4c18afe49d11",
   "metadata": {},
   "source": [
    "17. What does the . character normally match? What does it match if re.DOTALL is passed as 2nd\n",
    "argument in re.compile()?"
   ]
  },
  {
   "cell_type": "markdown",
   "id": "bed2f9fe-b63e-4041-981c-bb8f6cda8a5c",
   "metadata": {},
   "source": [
    "Ans .character normally matches any character except the newline character. If re. DOTALL is passed as the second argument to re. compile(), then the dot will also match newline characters."
   ]
  },
  {
   "cell_type": "markdown",
   "id": "94fa3995-2203-4ed6-919d-21213c2552cc",
   "metadata": {},
   "source": [
    "18. If numReg = re.compile(r&#39;\\d+&#39;), what will numRegex.sub(&#39;X&#39;, &#39;11 drummers, 10 pipers, five rings, 4\n",
    "hen&#39;) return?"
   ]
  },
  {
   "cell_type": "code",
   "execution_count": 13,
   "id": "a63f34fb-7974-4910-b3c8-a0187a3015d8",
   "metadata": {},
   "outputs": [
    {
     "data": {
      "text/plain": [
       "'X drummers, X pipers, five rings, X hen'"
      ]
     },
     "execution_count": 13,
     "metadata": {},
     "output_type": "execute_result"
    }
   ],
   "source": [
    "numRegex = re.compile(r'\\d+')\n",
    "mo = numRegex.sub('X', '11 drummers, 10 pipers, five rings, 4 hen')\n",
    "mo"
   ]
  },
  {
   "cell_type": "markdown",
   "id": "49bf918f-ce99-4e96-875a-b306d476b065",
   "metadata": {},
   "source": [
    "19. What does passing re.VERBOSE as the 2nd argument to re.compile() allow to do?"
   ]
  },
  {
   "cell_type": "markdown",
   "id": "e61728ab-4aa2-47b1-bcb5-797d877dedea",
   "metadata": {},
   "source": [
    "Ans. To ignore whitespace and comments inside the regular expression string."
   ]
  },
  {
   "cell_type": "markdown",
   "id": "458ca690-3dff-44dc-bb80-1a7758bd1b3b",
   "metadata": {},
   "source": [
    "20. How would you write a regex that match a number with comma for every three digits? It must\n",
    "match the given following:\n",
    "&#39;42&#39;\n",
    "&#39;1,234&#39;\n",
    "&#39;6,368,745&#39; but not the following:\n",
    "&#39;12,34,567&#39; (which has only two digits between the commas)\n",
    "&#39;1234&#39; (which lacks commas)"
   ]
  },
  {
   "cell_type": "code",
   "execution_count": 18,
   "id": "a8a14eff-5c71-4595-92c8-902d72fe4147",
   "metadata": {},
   "outputs": [
    {
     "data": {
      "text/plain": [
       "'42'"
      ]
     },
     "execution_count": 18,
     "metadata": {},
     "output_type": "execute_result"
    }
   ],
   "source": [
    "reg = re.compile(r'^\\d{1,3}(,\\d{3})*$')\n",
    "mo1 = reg.search('42')\n",
    "mo1.group()"
   ]
  },
  {
   "cell_type": "code",
   "execution_count": 19,
   "id": "cbb6c1c4-1c48-46d3-9615-2700b745993e",
   "metadata": {},
   "outputs": [
    {
     "data": {
      "text/plain": [
       "'1,234'"
      ]
     },
     "execution_count": 19,
     "metadata": {},
     "output_type": "execute_result"
    }
   ],
   "source": [
    "reg = re.compile(r'^\\d{1,3}(,\\d{3})*$')\n",
    "mo1 = reg.search('1,234')\n",
    "mo1.group()"
   ]
  },
  {
   "cell_type": "code",
   "execution_count": 20,
   "id": "b2fc974d-fb23-4ea3-ae61-7929c0627de6",
   "metadata": {},
   "outputs": [
    {
     "data": {
      "text/plain": [
       "'6,368,745'"
      ]
     },
     "execution_count": 20,
     "metadata": {},
     "output_type": "execute_result"
    }
   ],
   "source": [
    "reg = re.compile(r'^\\d{1,3}(,\\d{3})*$')\n",
    "mo1 = reg.search('6,368,745')\n",
    "mo1.group()"
   ]
  },
  {
   "cell_type": "markdown",
   "id": "eeec4a03-8843-47e9-8118-8b1093184d48",
   "metadata": {},
   "source": [
    "21. How would you write a regex that matches the full name of someone whose last name is\n",
    "Watanabe? You can assume that the first name that comes before it will always be one word that\n",
    "begins with a capital letter. The regex must match the following:\n",
    "&#39;Haruto Watanabe&#39;\n",
    "&#39;Alice Watanabe&#39;\n",
    "&#39;RoboCop Watanabe&#39;\n",
    "but not the following:\n",
    "&#39;haruto Watanabe&#39; (where the first name is not capitalized)\n",
    "&#39;Mr. Watanabe&#39; (where the preceding word has a nonletter character)\n",
    "&#39;Watanabe&#39; (which has no first name)\n",
    "&#39;Haruto watanabe&#39; (where Watanabe is not capitalized)"
   ]
  },
  {
   "cell_type": "code",
   "execution_count": 21,
   "id": "b2905841-e794-4c3a-af63-700a98720dac",
   "metadata": {},
   "outputs": [
    {
     "data": {
      "text/plain": [
       "'Haruto Watanabe'"
      ]
     },
     "execution_count": 21,
     "metadata": {},
     "output_type": "execute_result"
    }
   ],
   "source": [
    "name = re.compile(r'[A-Z][a-z]*\\sWatanabe')\n",
    "reg1 = re.compile(r'^\\d{1,3}(,\\d{haruto Watanabe3})*$')\n",
    "mo1 = name.search('Haruto Watanabe')\n",
    "mo1.group()"
   ]
  },
  {
   "cell_type": "code",
   "execution_count": 22,
   "id": "b2e3e469-b478-4cb1-9dd1-d49223a54190",
   "metadata": {},
   "outputs": [
    {
     "data": {
      "text/plain": [
       "'Alice Watanabe'"
      ]
     },
     "execution_count": 22,
     "metadata": {},
     "output_type": "execute_result"
    }
   ],
   "source": [
    "\n",
    "name = re.compile(r'[A-Z][a-z]*\\sWatanabe')\n",
    "reg1 = re.compile(r'^\\d{1,3}(,\\d{3})*$')\n",
    "mo1 = name.search('Alice Watanabe')\n",
    "mo1.group()\n",
    "     "
   ]
  },
  {
   "cell_type": "code",
   "execution_count": 23,
   "id": "879c66c7-8820-4a5e-a193-449a544cbf00",
   "metadata": {},
   "outputs": [
    {
     "data": {
      "text/plain": [
       "'Robocop Watanabe'"
      ]
     },
     "execution_count": 23,
     "metadata": {},
     "output_type": "execute_result"
    }
   ],
   "source": [
    "name = re.compile(r'[A-Z][a-z]*\\sWatanabe')\n",
    "reg1 = re.compile(r'^\\d{1,3}(,\\d{3})*$')\n",
    "mo1 = name.search('Robocop Watanabe')\n",
    "mo1.group()\n",
    "     "
   ]
  },
  {
   "cell_type": "markdown",
   "id": "0d60ac64-8329-46f6-a534-ee442c8ce7e3",
   "metadata": {},
   "source": [
    "22. How would you write a regex that matches a sentence where the first word is either Alice, Bob,\n",
    "or Carol; the second word is either eats, pets, or throws; the third word is apples, cats, or baseballs;\n",
    "and the sentence ends with a period? This regex should be case-insensitive. It must match the\n",
    "following: \n",
    "&#39;Alice eats apples.&#39;\n",
    "&#39;Bob pets cats.&#39;\n",
    "&#39;Carol throws baseballs.&#39;\n",
    "&#39;Alice throws Apples.&#39;\n",
    "&#39;BOB EATS CATS.&#39;\n",
    "but not the following:\n",
    "&#39;RoboCop eats apples.&#39;\n",
    "&#39;ALICE THROWS FOOTBALLS.&#39;\n",
    "&#39;Carol eats 7 cats.&#39;"
   ]
  },
  {
   "cell_type": "code",
   "execution_count": 24,
   "id": "02087a85-5f01-46a0-89e2-e4612e7448ef",
   "metadata": {},
   "outputs": [
    {
     "data": {
      "text/plain": [
       "'Alice eats apples.'"
      ]
     },
     "execution_count": 24,
     "metadata": {},
     "output_type": "execute_result"
    }
   ],
   "source": [
    "name = re.compile(r'(Alice|Bob|Carol)\\s(eats|pets|throws)\\s(apples|cats|baseballs)\\.', re.IGNORECASE)\n",
    "\n",
    "mo1 = name.search('Alice eats apples.')\n",
    "mo1.group()"
   ]
  },
  {
   "cell_type": "code",
   "execution_count": 25,
   "id": "596f77f9-e054-44e0-9355-42c8e2475a46",
   "metadata": {},
   "outputs": [
    {
     "data": {
      "text/plain": [
       "'Carol throws baseballs.'"
      ]
     },
     "execution_count": 25,
     "metadata": {},
     "output_type": "execute_result"
    }
   ],
   "source": [
    "name = re.compile(r'(Alice|Bob|Carol)\\s(eats|pets|throws)\\s(apples|cats|baseballs)\\.', re.IGNORECASE)\n",
    "\n",
    "mo1 = name.search('Carol throws baseballs.')\n",
    "mo1.group()"
   ]
  },
  {
   "cell_type": "code",
   "execution_count": null,
   "id": "208f210c-af42-465d-9a8b-481638f318dc",
   "metadata": {},
   "outputs": [],
   "source": []
  }
 ],
 "metadata": {
  "kernelspec": {
   "display_name": "Python 3 (ipykernel)",
   "language": "python",
   "name": "python3"
  },
  "language_info": {
   "codemirror_mode": {
    "name": "ipython",
    "version": 3
   },
   "file_extension": ".py",
   "mimetype": "text/x-python",
   "name": "python",
   "nbconvert_exporter": "python",
   "pygments_lexer": "ipython3",
   "version": "3.10.6"
  }
 },
 "nbformat": 4,
 "nbformat_minor": 5
}
